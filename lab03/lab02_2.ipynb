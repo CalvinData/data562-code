{
  "cells": [
    {
      "attachments": {},
      "cell_type": "markdown",
      "metadata": {
        "colab_type": "text",
        "id": "view-in-github"
      },
      "source": [
        "<a href=\"https://colab.research.google.com/github/CalvinData/data562-code/blob/feature%2Flab1-lab2-submissions/lab02/lab02_2.ipynb\" target=\"_parent\"><img src=\"https://colab.research.google.com/assets/colab-badge.svg\" alt=\"Open In Colab\"/></a>"
      ]
    },
    {
      "attachments": {},
      "cell_type": "markdown",
      "metadata": {
        "id": "wUVrK9XeTHUu"
      },
      "source": [
        "**DATA 562 - Lab 3.1**  \n",
        "\n",
        "**Titanic Data Analysis**  \n",
        "Keith VanderLinden  \n",
        "Spring 2024  \n",
        "\n",
        "This notebook should implement the VS Code [Data Science Tutorial](https://code.visualstudio.com/docs/datascience/data-science-tutorial)."
      ]
    }
  ],
  "metadata": {
    "colab": {
      "include_colab_link": true,
      "provenance": []
    },
    "language_info": {
      "name": "python"
    },
    "orig_nbformat": 4
  },
  "nbformat": 4,
  "nbformat_minor": 0
}
