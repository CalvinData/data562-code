{
  "cells": [
    {
      "attachments": {},
      "cell_type": "markdown",
      "metadata": {
        "colab_type": "text",
        "id": "view-in-github"
      },
      "source": [
        "<a href=\"https://colab.research.google.com/github/CalvinData/data562-code/blob/feature%2Flab1-lab2-submissions/lab01/lab01_2_slo.ipynb\" target=\"_parent\"><img src=\"https://colab.research.google.com/assets/colab-badge.svg\" alt=\"Open In Colab\"/></a>"
      ]
    },
    {
      "attachments": {},
      "cell_type": "markdown",
      "metadata": {
        "id": "wUVrK9XeTHUu"
      },
      "source": [
        "**DATA 562 - Lab 1.2**\n",
        "\n",
        "**Social License to Operate**  \n",
        "CSIRO & K. VanderLinden  \n",
        "Spring 2024  \n",
        "0.1\n",
        "\n",
        "### Background\n",
        "\n",
        "Australian coal mining companies suffer from bad PR (probably justifiably so), so they would like an easy way to know what people are saying, for or against them, so that they can respond appropriately. This would help them earn what is commonly called a *social license to operate* (SLO). Surveys and focus groups are time-consuming and expensive, but an automated means to keeping track of user opinions would help.\n",
        "\n",
        "### Value Proposition\n",
        "\n",
        "A real-time dashboard that monitors public opinion would help the mining companies or, frankly, any public or private organization. Leveraging positive public opinion or addressing negative public opinion might not be easy, but at least the companies would know where they stand. Twitter, at least until recently, has been a potential source of current user opinions.\n",
        "\n",
        "## Objectives\n",
        "\n",
        "- Monitor the Twitter stream, filtering it for comments on Australian mining companies.\n",
        "- Classify the filtered tweets as positive/neutral/negative (i.e., multi-class, low-cardinality) with respect to the mining companies. We could consider simplifying to positive/negative classification only.\n",
        "- Calculate the level of SLO of the companies over time.\n",
        "- Display the SLO level and a representative list of topics trending in the live commentary.\n",
        "\n",
        "## Solution\n",
        "\n",
        "Build a dashboard such as the following:\n",
        "\n",
        "![](https://drive.google.com/uc?id=1OA5asmRElWTm3D87V5ByqMYYdQI134_m)\n",
        "\n",
        "## Feasibility\n",
        "\n",
        "This tool was build but never fielded, to my knowledge. So, it's feasible but perhaps not sufficiently useful and/or interesting.\n",
        "\n",
        "## Data\n",
        "\n",
        "The data will come from the Twitter firehose (or, at least, it used to - the dataset we have now is static and died in ~2017). Considerable infrastructure would be required to re-attach the full Twitter feed. Perhaps other, newer media feeds would be better.\n",
        "\n",
        "Some hand-coding and semi-automatic coding was required to build train/test-sets."
      ]
    }
  ],
  "metadata": {
    "colab": {
      "include_colab_link": true,
      "provenance": []
    },
    "language_info": {
      "name": "python"
    },
    "orig_nbformat": 4
  },
  "nbformat": 4,
  "nbformat_minor": 0
}
