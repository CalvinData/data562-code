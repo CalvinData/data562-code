{
  "cells": [
    {
      "attachments": {},
      "cell_type": "markdown",
      "metadata": {
        "colab_type": "text",
        "id": "view-in-github"
      },
      "source": [
        "<a href=\"https://colab.research.google.com/github/CalvinData/data562-code/blob/feature%2Flab1-lab2-submissions/lab01/lab01_1.ipynb\" target=\"_parent\"><img src=\"https://colab.research.google.com/assets/colab-badge.svg\" alt=\"Open In Colab\"/></a>"
      ]
    },
    {
      "attachments": {},
      "cell_type": "markdown",
      "metadata": {
        "id": "euokvs-c3z0q"
      },
      "source": [
        "**DATA 562 - Lab 1.1**  \n",
        "\n",
        "**Hello, DATA 562!**  \n",
        "Keith VanderLinden  \n",
        "Spring 2024  \n",
        "\n",
        "I'm taking this course because I'm teaching it and my goal for all students and myself to survive the semester. I got my PhD in computer science and cognative science in the late 1900's and now teach courses in computer science and data science.\n",
        "\n",
        "I&rsquo;m able to run Python code."
      ]
    },
    {
      "cell_type": "code",
      "execution_count": null,
      "metadata": {
        "colab": {
          "base_uri": "https://localhost:8080/",
          "height": 302
        },
        "id": "jrdQTuUr4oAb",
        "outputId": "23a6782a-b40e-4b1e-f925-c684aca81e0e"
      },
      "outputs": [
        {
          "data": {
            "image/png": "[encoded data removed]",
            "text/plain": [
              "<Figure size 200x200 with 1 Axes>"
            ]
          },
          "metadata": {},
          "output_type": "display_data"
        }
      ],
      "source": [
        "import numpy as np\n",
        "import pandas as pd\n",
        "import matplotlib.pyplot as plt\n",
        "\n",
        "# Load the Titanic dataset (https://www.kaggle.com/c/titanic/data)\n",
        "url = \"https://raw.githubusercontent.com/GokuMohandas/Made-With-ML/main/datasets/titanic.csv\"\n",
        "df = pd.read_csv(url, header=0)\n",
        "\n",
        "# Compute the survival rate per ticket class (first, second, third).\n",
        "data = df[['pclass', 'survived']].groupby('pclass', as_index=False).mean()\n",
        "\n",
        "# Plot the computed data.\n",
        "figure = plt.figure(figsize=(2, 2))\n",
        "ax = figure.add_axes([0, 0, 1, 1])\n",
        "ax.bar(data[\"pclass\"], data[\"survived\"])\n",
        "plt.xlabel(\"Ticket Class\")\n",
        "plt.xticks(np.arange(min(data[\"pclass\"]), max(data[\"pclass\"]) + 1))\n",
        "plt.ylabel(\"Survival Rate\")\n",
        "plt.ylim(0, 1)\n",
        "plt.title(\"Titanic Survival Rates\")\n",
        "plt.show()\n"
      ]
    }
  ],
  "metadata": {
    "colab": {
      "include_colab_link": true,
      "provenance": []
    },
    "kernelspec": {
      "display_name": "Python 3",
      "name": "python3"
    },
    "language_info": {
      "name": "python"
    }
  },
  "nbformat": 4,
  "nbformat_minor": 0
}
